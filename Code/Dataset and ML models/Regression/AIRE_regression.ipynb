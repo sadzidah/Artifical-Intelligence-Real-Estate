{
 "cells": [
  {
   "cell_type": "code",
   "execution_count": 1,
   "metadata": {},
   "outputs": [],
   "source": [
    "# Import all necessary libraries and modules\n",
    "import pandas as pd\n",
    "import numpy as np\n",
    "from matplotlib import pyplot as plt\n",
    "import matplotlib\n",
    "# Sckit-learn ML libraries for python used for training and testing the model\n",
    "from sklearn.model_selection import train_test_split\n",
    "from sklearn.linear_model import LinearRegression\n",
    "from sklearn.model_selection import ShuffleSplit, cross_val_score\n",
    "# for exporting the model into binary format\n",
    "import pickle\n",
    "# for setting header info into JSON structure that can be used later\n",
    "import json"
   ]
  },
  {
   "cell_type": "code",
   "execution_count": 2,
   "metadata": {},
   "outputs": [],
   "source": [
    "# setting matplotlib figure size\n",
    "matplotlib.rcParams['figure.figsize'] = (20,10)"
   ]
  },
  {
   "cell_type": "code",
   "execution_count": 3,
   "metadata": {},
   "outputs": [
    {
     "data": {
      "text/html": [
       "<div>\n",
       "<style scoped>\n",
       "    .dataframe tbody tr th:only-of-type {\n",
       "        vertical-align: middle;\n",
       "    }\n",
       "\n",
       "    .dataframe tbody tr th {\n",
       "        vertical-align: top;\n",
       "    }\n",
       "\n",
       "    .dataframe thead th {\n",
       "        text-align: right;\n",
       "    }\n",
       "</style>\n",
       "<table border=\"1\" class=\"dataframe\">\n",
       "  <thead>\n",
       "    <tr style=\"text-align: right;\">\n",
       "      <th></th>\n",
       "      <th>cijena</th>\n",
       "      <th>stanje</th>\n",
       "      <th>lokacija</th>\n",
       "      <th>broj_kvadrata</th>\n",
       "      <th>sprat</th>\n",
       "      <th>namjesten</th>\n",
       "      <th>broj_soba</th>\n",
       "      <th>grijanje</th>\n",
       "    </tr>\n",
       "  </thead>\n",
       "  <tbody>\n",
       "    <tr>\n",
       "      <th>0</th>\n",
       "      <td>35000.0</td>\n",
       "      <td>0</td>\n",
       "      <td>Novo Sarajevo</td>\n",
       "      <td>40.0</td>\n",
       "      <td>-1.0</td>\n",
       "      <td>0.0</td>\n",
       "      <td>1.0</td>\n",
       "      <td>1.0</td>\n",
       "    </tr>\n",
       "    <tr>\n",
       "      <th>1</th>\n",
       "      <td>180000.0</td>\n",
       "      <td>0</td>\n",
       "      <td>Opcina Centar</td>\n",
       "      <td>65.0</td>\n",
       "      <td>-1.0</td>\n",
       "      <td>0.0</td>\n",
       "      <td>2.0</td>\n",
       "      <td>1.0</td>\n",
       "    </tr>\n",
       "    <tr>\n",
       "      <th>2</th>\n",
       "      <td>73000.0</td>\n",
       "      <td>0</td>\n",
       "      <td>Novo Sarajevo</td>\n",
       "      <td>38.0</td>\n",
       "      <td>-1.0</td>\n",
       "      <td>0.0</td>\n",
       "      <td>2.0</td>\n",
       "      <td>2.0</td>\n",
       "    </tr>\n",
       "    <tr>\n",
       "      <th>3</th>\n",
       "      <td>88000.0</td>\n",
       "      <td>0</td>\n",
       "      <td>Novo Sarajevo</td>\n",
       "      <td>68.0</td>\n",
       "      <td>-1.0</td>\n",
       "      <td>0.0</td>\n",
       "      <td>3.0</td>\n",
       "      <td>2.0</td>\n",
       "    </tr>\n",
       "    <tr>\n",
       "      <th>4</th>\n",
       "      <td>95000.0</td>\n",
       "      <td>0</td>\n",
       "      <td>Novo Sarajevo</td>\n",
       "      <td>68.0</td>\n",
       "      <td>-1.0</td>\n",
       "      <td>0.0</td>\n",
       "      <td>3.0</td>\n",
       "      <td>2.0</td>\n",
       "    </tr>\n",
       "  </tbody>\n",
       "</table>\n",
       "</div>"
      ],
      "text/plain": [
       "     cijena  stanje       lokacija  broj_kvadrata  sprat  namjesten  \\\n",
       "0   35000.0       0  Novo Sarajevo           40.0   -1.0        0.0   \n",
       "1  180000.0       0  Opcina Centar           65.0   -1.0        0.0   \n",
       "2   73000.0       0  Novo Sarajevo           38.0   -1.0        0.0   \n",
       "3   88000.0       0  Novo Sarajevo           68.0   -1.0        0.0   \n",
       "4   95000.0       0  Novo Sarajevo           68.0   -1.0        0.0   \n",
       "\n",
       "   broj_soba  grijanje  \n",
       "0        1.0       1.0  \n",
       "1        2.0       1.0  \n",
       "2        2.0       2.0  \n",
       "3        3.0       2.0  \n",
       "4        3.0       2.0  "
      ]
     },
     "execution_count": 3,
     "metadata": {},
     "output_type": "execute_result"
    }
   ],
   "source": [
    "# Read real estate data\n",
    "data_frame = pd.read_csv(r\"estate_dataset.csv\")\n",
    "data_frame.head()"
   ]
  },
  {
   "cell_type": "code",
   "execution_count": 4,
   "metadata": {},
   "outputs": [
    {
     "name": "stdout",
     "output_type": "stream",
     "text": [
      "Shape of our data frame: (2238, 8)\n"
     ]
    }
   ],
   "source": [
    "# We have 2238 listings with 8 features\n",
    "print(f\"Shape of our data frame: {data_frame.shape}\")"
   ]
  },
  {
   "cell_type": "markdown",
   "metadata": {},
   "source": [
    "# Data Preprocessing"
   ]
  },
  {
   "cell_type": "code",
   "execution_count": 5,
   "metadata": {},
   "outputs": [
    {
     "name": "stdout",
     "output_type": "stream",
     "text": [
      "\n",
      "# NA values in dataset:\n",
      "cijena           2\n",
      "stanje           0\n",
      "lokacija         0\n",
      "broj_kvadrata    2\n",
      "sprat            4\n",
      "namjesten        2\n",
      "broj_soba        4\n",
      "grijanje         3\n",
      "dtype: int64\n"
     ]
    }
   ],
   "source": [
    "# check for NAs\n",
    "print(\"\\n# NA values in dataset:\")\n",
    "print(data_frame.isnull().sum())\n",
    "# drop those NAs\n",
    "data_frame = data_frame.dropna()"
   ]
  },
  {
   "cell_type": "code",
   "execution_count": 6,
   "metadata": {},
   "outputs": [
    {
     "name": "stdout",
     "output_type": "stream",
     "text": [
      "\n",
      "# Locations and listings by location: \n",
      "lokacija\n",
      "Opcina Centar    606\n",
      "Novi Grad        492\n",
      "Ilidza           442\n",
      "Novo Sarajevo    376\n",
      "Stari Grad       202\n",
      "Vogosca           90\n",
      "Hadzici           14\n",
      "Trnovo             7\n",
      "Ilijas             5\n",
      "Name: lokacija, dtype: int64\n",
      "\n",
      "# Types of heating system and number of listings using it: \n",
      "grijanje\n",
      "1.0    1003\n",
      "2.0     689\n",
      "3.0     240\n",
      "4.0     233\n",
      "5.0      69\n",
      "Name: grijanje, dtype: int64\n"
     ]
    }
   ],
   "source": [
    "# Displaying some of the insights from data\n",
    "print(\"\\n# Locations and listings by location: \")\n",
    "location_stats = data_frame.groupby('lokacija')['lokacija'].agg('count').sort_values(ascending=False)\n",
    "print(location_stats)\n",
    "print(\"\\n# Types of heating system and number of listings using it: \")\n",
    "heating_stats = data_frame.groupby('grijanje')['grijanje'].agg('count').sort_values(ascending=False)\n",
    "print(heating_stats)"
   ]
  },
  {
   "cell_type": "code",
   "execution_count": 7,
   "metadata": {},
   "outputs": [
    {
     "name": "stdout",
     "output_type": "stream",
     "text": [
      "\n",
      "# Properties for rent: \n",
      "      cijena  stanje       lokacija  broj_kvadrata  sprat  namjesten  \\\n",
      "1430  1200.0       0  Opcina Centar           89.0    1.0        1.0   \n",
      "2027  1000.0       0      Novi Grad           74.0    5.0        1.0   \n",
      "2162   500.0       0         Ilidza           88.0    9.0        1.0   \n",
      "\n",
      "      broj_soba  grijanje  \n",
      "1430        4.0       1.0  \n",
      "2027        3.0       2.0  \n",
      "2162        4.0       3.0  \n"
     ]
    }
   ],
   "source": [
    "# Displaying listings below price of 10 000 KM\n",
    "print(\"\\n# Properties for rent: \")\n",
    "print(data_frame[data_frame.cijena < 10000])\n",
    "# Removing rental properties and properties that are too expensive to be classified as residental\n",
    "data_frame = data_frame[~(data_frame.cijena < 10000)]\n",
    "data_frame = data_frame[~(data_frame.cijena > 500000)]"
   ]
  },
  {
   "cell_type": "code",
   "execution_count": 8,
   "metadata": {},
   "outputs": [
    {
     "name": "stdout",
     "output_type": "stream",
     "text": [
      "Locations that we will group as 'Other': lokacija\n",
      "Hadzici    14\n",
      "Trnovo      7\n",
      "Ilijas      5\n",
      "Name: lokacija, dtype: int64\n"
     ]
    }
   ],
   "source": [
    "# Putting locations that contain less than 50 listings in Other catogry\n",
    "# They all will be marked as Other\n",
    "other_locations = location_stats[location_stats <= 50]\n",
    "print(f\"Locations that we will group as 'Other': {other_locations}\")"
   ]
  },
  {
   "cell_type": "code",
   "execution_count": 9,
   "metadata": {},
   "outputs": [
    {
     "name": "stdout",
     "output_type": "stream",
     "text": [
      "\n",
      "# New unique locations: ['Novo Sarajevo' 'Opcina Centar' 'Stari Grad' 'Novi Grad' 'Vogosca'\n",
      " 'Ilidza' 'Ostalo']\n"
     ]
    }
   ],
   "source": [
    "# Go through data frame and check every location for every listing with lambda function if this location is in other locations\n",
    "# If yes, replace previous location with \"Other\"\n",
    "data_frame.lokacija = data_frame.lokacija.apply(lambda this_location: 'Ostalo' if this_location in other_locations else this_location)\n",
    "print(f\"\\n# New unique locations: {data_frame.lokacija.unique()}\")"
   ]
  },
  {
   "cell_type": "code",
   "execution_count": 10,
   "metadata": {},
   "outputs": [
    {
     "name": "stdout",
     "output_type": "stream",
     "text": [
      "\n",
      "# Data frame with new column (price/m2): \n",
      "      cijena  stanje       lokacija  broj_kvadrata  sprat  namjesten  \\\n",
      "0   35000.0       0  Novo Sarajevo           40.0   -1.0        0.0   \n",
      "1  180000.0       0  Opcina Centar           65.0   -1.0        0.0   \n",
      "2   73000.0       0  Novo Sarajevo           38.0   -1.0        0.0   \n",
      "3   88000.0       0  Novo Sarajevo           68.0   -1.0        0.0   \n",
      "4   95000.0       0  Novo Sarajevo           68.0   -1.0        0.0   \n",
      "\n",
      "   broj_soba  grijanje  cijena_po_m2  \n",
      "0        1.0       1.0    875.000000  \n",
      "1        2.0       1.0   2769.230769  \n",
      "2        2.0       2.0   1921.052632  \n",
      "3        3.0       2.0   1294.117647  \n",
      "4        3.0       2.0   1397.058824  \n",
      "\n",
      "# Description of price/m2:\n",
      "count    2200.000000\n",
      "mean     2414.307087\n",
      "std       705.806065\n",
      "min       446.735395\n",
      "25%      1916.666667\n",
      "50%      2323.055028\n",
      "75%      2818.993506\n",
      "max      5697.674419\n",
      "Name: cijena_po_m2, dtype: float64\n"
     ]
    }
   ],
   "source": [
    "# Create new column (price/m2) and calculate for every listing\n",
    "data_frame['cijena_po_m2'] = data_frame['cijena']/data_frame['broj_kvadrata']\n",
    "print(f\"\\n# Data frame with new column (price/m2): \\n {data_frame.head()}\")\n",
    "\n",
    "print(f\"\\n# Description of price/m2:\\n{data_frame['cijena_po_m2'].describe()}\")"
   ]
  },
  {
   "cell_type": "code",
   "execution_count": 11,
   "metadata": {},
   "outputs": [],
   "source": [
    "# 1 standard deviation\n",
    "# Group by each location and caluclate mean and standard deviation for each location\n",
    "def price_per_msq_outlier(df):\n",
    "    df_out = pd.DataFrame()\n",
    "    for key, group_df in df.groupby('lokacija'):\n",
    "        df_mean = np.mean(group_df.cijena_po_m2)\n",
    "        df_stdev = np.std(group_df.cijena_po_m2)\n",
    "        reduced_df = group_df[(group_df.cijena_po_m2 > (df_mean - df_stdev)) & (group_df.cijena_po_m2 <= (df_mean + df_stdev))]\n",
    "        df_out = pd.concat([df_out, reduced_df], ignore_index=True)\n",
    "    return df_out"
   ]
  },
  {
   "cell_type": "code",
   "execution_count": 12,
   "metadata": {},
   "outputs": [
    {
     "name": "stdout",
     "output_type": "stream",
     "text": [
      "New shape of data: (1598, 9)\n"
     ]
    }
   ],
   "source": [
    "data_frame = price_per_msq_outlier(data_frame)\n",
    "print(f\"New shape of data: {data_frame.shape}\")"
   ]
  },
  {
   "cell_type": "code",
   "execution_count": 13,
   "metadata": {},
   "outputs": [],
   "source": [
    "# Drop price per m2\n",
    "data_frame = data_frame.drop(['cijena_po_m2'], axis='columns')"
   ]
  },
  {
   "cell_type": "code",
   "execution_count": 14,
   "metadata": {},
   "outputs": [
    {
     "name": "stdout",
     "output_type": "stream",
     "text": [
      "\n",
      "# Dummies:\n",
      "   Ilidza  Novi Grad  Novo Sarajevo  Opcina Centar  Ostalo  Stari Grad  \\\n",
      "0       1          0              0              0       0           0   \n",
      "1       1          0              0              0       0           0   \n",
      "2       1          0              0              0       0           0   \n",
      "3       1          0              0              0       0           0   \n",
      "4       1          0              0              0       0           0   \n",
      "\n",
      "   Vogosca  \n",
      "0        0  \n",
      "1        0  \n",
      "2        0  \n",
      "3        0  \n",
      "4        0  \n"
     ]
    }
   ],
   "source": [
    "# Hot encode locations\n",
    "dummies = pd.get_dummies(data_frame.lokacija)\n",
    "print(f\"\\n# Dummies:\\n{dummies.head()}\")"
   ]
  },
  {
   "cell_type": "code",
   "execution_count": 15,
   "metadata": {},
   "outputs": [
    {
     "name": "stdout",
     "output_type": "stream",
     "text": [
      "\n",
      "# Data frame ready:\n",
      "     cijena  stanje  broj_kvadrata  sprat  namjesten  broj_soba  grijanje  \\\n",
      "0  106000.0       0           51.0    0.0        0.0        2.0       1.0   \n",
      "1  113351.0       0           54.0    0.0        0.0        3.0       1.0   \n",
      "2  117562.0       1           68.0    0.0        0.0        3.0       1.0   \n",
      "3  169000.0       0           83.0    0.0        0.0        4.0       1.0   \n",
      "4  190210.5       1           88.0    0.0        0.0        4.0       1.0   \n",
      "\n",
      "   Ilidza  Novi Grad  Novo Sarajevo  Opcina Centar  Ostalo  Stari Grad  \\\n",
      "0       1          0              0              0       0           0   \n",
      "1       1          0              0              0       0           0   \n",
      "2       1          0              0              0       0           0   \n",
      "3       1          0              0              0       0           0   \n",
      "4       1          0              0              0       0           0   \n",
      "\n",
      "   Vogosca  \n",
      "0        0  \n",
      "1        0  \n",
      "2        0  \n",
      "3        0  \n",
      "4        0  \n"
     ]
    }
   ],
   "source": [
    "# Add them to our data frame and drop location column with strings\n",
    "data_frame = pd.concat([data_frame, dummies], axis='columns')\n",
    "data_frame = data_frame.drop(['lokacija'], axis='columns')\n",
    "print(f\"\\n# Data frame ready:\\n{data_frame.head()}\")"
   ]
  },
  {
   "cell_type": "code",
   "execution_count": 16,
   "metadata": {},
   "outputs": [
    {
     "name": "stdout",
     "output_type": "stream",
     "text": [
      "\n",
      "# Independent variables:\n",
      "   stanje  broj_kvadrata  sprat  namjesten  broj_soba  grijanje  Ilidza  \\\n",
      "0       0           51.0    0.0        0.0        2.0       1.0       1   \n",
      "1       0           54.0    0.0        0.0        3.0       1.0       1   \n",
      "2       1           68.0    0.0        0.0        3.0       1.0       1   \n",
      "3       0           83.0    0.0        0.0        4.0       1.0       1   \n",
      "4       1           88.0    0.0        0.0        4.0       1.0       1   \n",
      "\n",
      "   Novi Grad  Novo Sarajevo  Opcina Centar  Ostalo  Stari Grad  Vogosca  \n",
      "0          0              0              0       0           0        0  \n",
      "1          0              0              0       0           0        0  \n",
      "2          0              0              0       0           0        0  \n",
      "3          0              0              0       0           0        0  \n",
      "4          0              0              0       0           0        0  \n"
     ]
    }
   ],
   "source": [
    "# Define independent variables\n",
    "X = data_frame.drop('cijena', axis='columns')\n",
    "print(f\"\\n# Independent variables:\\n{X.head()}\")"
   ]
  },
  {
   "cell_type": "code",
   "execution_count": 17,
   "metadata": {},
   "outputs": [
    {
     "name": "stdout",
     "output_type": "stream",
     "text": [
      "\n",
      "# Dependent variables:\n",
      "0    106000.0\n",
      "1    113351.0\n",
      "2    117562.0\n",
      "3    169000.0\n",
      "4    190210.5\n",
      "Name: cijena, dtype: float64\n"
     ]
    }
   ],
   "source": [
    "# Define dependant variables\n",
    "y = data_frame.cijena\n",
    "print(f\"\\n# Dependent variables:\\n{y.head()}\")"
   ]
  },
  {
   "cell_type": "code",
   "execution_count": 18,
   "metadata": {},
   "outputs": [],
   "source": [
    "# Independent variables, dependent variable, test size set to 20%, \n",
    "X_train, X_test, y_train, y_test = train_test_split(X, y, test_size=0.2, random_state=10)"
   ]
  },
  {
   "cell_type": "code",
   "execution_count": 19,
   "metadata": {},
   "outputs": [
    {
     "data": {
      "text/plain": [
       "LinearRegression()"
      ]
     },
     "execution_count": 19,
     "metadata": {},
     "output_type": "execute_result"
    }
   ],
   "source": [
    "# init the model and fit it according to our training data\n",
    "estate_model = LinearRegression()\n",
    "estate_model.fit(X_train, y_train)"
   ]
  },
  {
   "cell_type": "code",
   "execution_count": 20,
   "metadata": {},
   "outputs": [
    {
     "name": "stdout",
     "output_type": "stream",
     "text": [
      "Model score: 0.902984556195822\n"
     ]
    }
   ],
   "source": [
    "# Evaluate the performance\n",
    "print(f\"Model score: {estate_model.score(X_test, y_test)}\")"
   ]
  },
  {
   "cell_type": "code",
   "execution_count": 21,
   "metadata": {},
   "outputs": [
    {
     "name": "stdout",
     "output_type": "stream",
     "text": [
      "[0.89245862 0.89085821 0.88753011 0.89673202 0.89669454 0.89953088\n",
      " 0.89378961 0.89318804 0.88669317 0.90325162]\n"
     ]
    }
   ],
   "source": [
    "# Cross validation of algorithm\n",
    "cv = ShuffleSplit(n_splits=10, test_size=0.2, random_state=0)\n",
    "print(cross_val_score(LinearRegression(), X, y, cv=cv))"
   ]
  },
  {
   "cell_type": "code",
   "execution_count": 22,
   "metadata": {},
   "outputs": [],
   "source": [
    "# Function that predicts price based on info we provide\n",
    "def predict_price(mymodel, lokacija, stanje, broj_kvadrata, sprat, namjesten, broj_soba, grijanje):    \n",
    "    loc_index = np.where(X.columns == lokacija)[0][0]\n",
    "\n",
    "    x = np.zeros(len(X.columns))\n",
    "    x[0] = stanje\n",
    "    x[1] = broj_kvadrata\n",
    "    x[2] = sprat\n",
    "    x[3] = namjesten\n",
    "    x[4] = broj_soba\n",
    "    x[5] = grijanje\n",
    "    if loc_index >= 0:\n",
    "        x[loc_index] = 1\n",
    "\n",
    "    return mymodel.predict([x])[0]"
   ]
  },
  {
   "cell_type": "code",
   "execution_count": 23,
   "metadata": {},
   "outputs": [
    {
     "name": "stdout",
     "output_type": "stream",
     "text": [
      "Prediction: 124975.98445784647\n"
     ]
    }
   ],
   "source": [
    "# Novo Sarajevo, koristen stan, 52 kvadrata, 3 sprat, nenamjesten, 2 sobe, grijanje na plin\n",
    "print(f\"Prediction: {predict_price(estate_model, 'Novo Sarajevo', 0, 52, 3, 0, 2, 1)}\")"
   ]
  },
  {
   "cell_type": "code",
   "execution_count": null,
   "metadata": {},
   "outputs": [
    {
     "name": "stdout",
     "output_type": "stream",
     "text": [
      "\n",
      "\n",
      "You can export model if you're satisfied with performance.\n",
      "\n"
     ]
    }
   ],
   "source": [
    "print(\"\\n\\n Export model?\\n\")\n",
    "exp_choice = str(input(\"Type 'y' or 'yes' to export or 'n' or 'no' to skip: \"))"
   ]
  },
  {
   "cell_type": "code",
   "execution_count": null,
   "metadata": {},
   "outputs": [],
   "source": [
    "if exp_choice == 'y' or exp_choice == 'yes':\n",
    "\n",
    "    # Export the model into binary pickle file\n",
    "    with open('estateai_model_v1.pickle','wb') as f:\n",
    "        pickle.dump(estate_model,f)\n",
    "\n",
    "    # Storing header information so we can use it later\n",
    "    columns = {\n",
    "        'podaci_kolona' : [col.lower() for col in X.columns]\n",
    "    }\n",
    "    with open(\"columns.json\",\"w\") as f:\n",
    "        f.write(json.dumps(columns))\n",
    "\n",
    "elif exp_choice == 'n' or exp_choice == 'no':\n",
    "    pass\n",
    "else:\n",
    "    print(\"Wrong! Try Again.!\")\n",
    "    pass"
   ]
  },
  {
   "cell_type": "code",
   "execution_count": null,
   "metadata": {},
   "outputs": [],
   "source": []
  }
 ],
 "metadata": {
  "kernelspec": {
   "display_name": "Python 3",
   "language": "python",
   "name": "python3"
  },
  "language_info": {
   "codemirror_mode": {
    "name": "ipython",
    "version": 3
   },
   "file_extension": ".py",
   "mimetype": "text/x-python",
   "name": "python",
   "nbconvert_exporter": "python",
   "pygments_lexer": "ipython3",
   "version": "3.8.8"
  }
 },
 "nbformat": 4,
 "nbformat_minor": 4
}
